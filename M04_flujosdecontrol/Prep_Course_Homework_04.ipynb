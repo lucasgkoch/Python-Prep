{
 "cells": [
  {
   "attachments": {},
   "cell_type": "markdown",
   "metadata": {},
   "source": [
    "## Flujos de Control"
   ]
  },
  {
   "attachments": {},
   "cell_type": "markdown",
   "metadata": {},
   "source": [
    "1) Crear una variable que contenga un elemento del conjunto de números enteros y luego imprimir por pantalla si es mayor o menor a cero"
   ]
  },
  {
   "cell_type": "code",
   "execution_count": 1,
   "metadata": {},
   "outputs": [
    {
     "name": "stdout",
     "output_type": "stream",
     "text": [
      "Es mayor a 0\n"
     ]
    }
   ],
   "source": [
    "x=2\n",
    "if x>0:\n",
    "    print(\"Es mayor a 0\")\n",
    "elif x<0:\n",
    "    print(\"Es menor a 0\")\n",
    "else:\n",
    "    print(\"Es igual a 0\")"
   ]
  },
  {
   "attachments": {},
   "cell_type": "markdown",
   "metadata": {},
   "source": [
    "2) Crear dos variables y un condicional que informe si son del mismo tipo de dato"
   ]
  },
  {
   "cell_type": "code",
   "execution_count": 5,
   "metadata": {},
   "outputs": [
    {
     "name": "stdout",
     "output_type": "stream",
     "text": [
      "Las variables son de dos tipos de dato diferentes:  <class 'int'>  y  <class 'str'>\n"
     ]
    }
   ],
   "source": [
    "a =int(0)\n",
    "b= str('hola')\n",
    "\n",
    "if type(a)==type(b):\n",
    "    print(\"El tipo de dato de las variables es el mismo: \"+type(a))\n",
    "else:\n",
    "    print(\"Las variables son de dos tipos de dato diferentes: \", type(a),\" y \" ,type(b))"
   ]
  },
  {
   "attachments": {},
   "cell_type": "markdown",
   "metadata": {},
   "source": [
    "3) Para los valores enteros del 1 al 20, imprimir por pantalla si es par o impar"
   ]
  },
  {
   "cell_type": "code",
   "execution_count": 7,
   "metadata": {},
   "outputs": [
    {
     "name": "stdout",
     "output_type": "stream",
     "text": [
      "1  es impar\n",
      "2  es par\n",
      "3  es impar\n",
      "4  es par\n",
      "5  es impar\n",
      "6  es par\n",
      "7  es impar\n",
      "8  es par\n",
      "9  es impar\n",
      "10  es par\n",
      "11  es impar\n",
      "12  es par\n",
      "13  es impar\n",
      "14  es par\n",
      "15  es impar\n",
      "16  es par\n",
      "17  es impar\n",
      "18  es par\n",
      "19  es impar\n",
      "20  es par\n"
     ]
    }
   ],
   "source": [
    "for i in range(20):\n",
    "    if (i+1)%2==0:\n",
    "        print(i+1,\" es par\")\n",
    "    else:\n",
    "        print(i+1,\" es impar\")"
   ]
  },
  {
   "attachments": {},
   "cell_type": "markdown",
   "metadata": {},
   "source": [
    "4) En un ciclo for mostrar para los valores entre 0 y 5 el resultado de elevarlo a la potencia igual a 3"
   ]
  },
  {
   "cell_type": "code",
   "execution_count": 9,
   "metadata": {},
   "outputs": [
    {
     "name": "stdout",
     "output_type": "stream",
     "text": [
      "0 elevado a la potencia de 3 es  0\n",
      "1 elevado a la potencia de 3 es  1\n",
      "2 elevado a la potencia de 3 es  8\n",
      "3 elevado a la potencia de 3 es  27\n",
      "4 elevado a la potencia de 3 es  64\n",
      "5 elevado a la potencia de 3 es  125\n"
     ]
    }
   ],
   "source": [
    "for i in range(0,6):\n",
    "    print(i,\"elevado a la potencia de 3 es \",i**3)"
   ]
  },
  {
   "attachments": {},
   "cell_type": "markdown",
   "metadata": {},
   "source": [
    "5) Crear una variable que contenga un número entero y realizar un ciclo for la misma cantidad de ciclos"
   ]
  },
  {
   "cell_type": "code",
   "execution_count": 11,
   "metadata": {},
   "outputs": [
    {
     "name": "stdout",
     "output_type": "stream",
     "text": [
      "Ciclo numero  1\n",
      "Ciclo numero  2\n",
      "Ciclo numero  3\n"
     ]
    }
   ],
   "source": [
    "x=3\n",
    "for i in range(x):\n",
    "    print(\"Ciclo numero \",i+1)"
   ]
  },
  {
   "attachments": {},
   "cell_type": "markdown",
   "metadata": {},
   "source": [
    "6) Utilizar un ciclo while para realizar el factorial de un número guardado en una variable, sólo si la variable contiene un número entero mayor a 0"
   ]
  },
  {
   "cell_type": "code",
   "execution_count": 22,
   "metadata": {},
   "outputs": [
    {
     "name": "stdout",
     "output_type": "stream",
     "text": [
      "El factorial de  3  es:  6\n"
     ]
    }
   ],
   "source": [
    "x=3\n",
    "if x>0 and type(x)==int:\n",
    "    y=x\n",
    "    factorial=0\n",
    "    while y>1:\n",
    "        factorial=y*(y-1)\n",
    "        y-=y\n",
    "    print(\"El factorial de \",x,\" es: \", factorial)\n",
    "else:\n",
    "    print(\"El numero ingresado debe ser entero y mayor a 0\")"
   ]
  },
  {
   "attachments": {},
   "cell_type": "markdown",
   "metadata": {},
   "source": [
    "7) Crear un ciclo for dentro de un ciclo while"
   ]
  },
  {
   "cell_type": "code",
   "execution_count": 29,
   "metadata": {},
   "outputs": [
    {
     "name": "stdout",
     "output_type": "stream",
     "text": [
      "x: 0  y: 0\n",
      "x: 0  y: 1\n",
      "x: 0  y: 2\n",
      "x: 0  y: 3\n",
      "x: 0  y: 4\n",
      "x: 1  y: 0\n",
      "x: 1  y: 1\n",
      "x: 1  y: 2\n",
      "x: 1  y: 3\n",
      "x: 1  y: 4\n",
      "x: 2  y: 0\n",
      "x: 2  y: 1\n",
      "x: 2  y: 2\n",
      "x: 2  y: 3\n",
      "x: 2  y: 4\n",
      "x: 3  y: 0\n",
      "x: 3  y: 1\n",
      "x: 3  y: 2\n",
      "x: 3  y: 3\n",
      "x: 3  y: 4\n"
     ]
    }
   ],
   "source": [
    "x=0\n",
    "\n",
    "while x<4:\n",
    "    \n",
    "    for y in range(5):\n",
    "        print(\"x:\",x,\" y:\",y)\n",
    "    x+=1"
   ]
  },
  {
   "attachments": {},
   "cell_type": "markdown",
   "metadata": {},
   "source": [
    "8) Crear un ciclo while dentro de un ciclo for"
   ]
  },
  {
   "cell_type": "code",
   "execution_count": 30,
   "metadata": {},
   "outputs": [
    {
     "name": "stdout",
     "output_type": "stream",
     "text": [
      "x: 0  y: 0\n",
      "x: 0  y: 1\n",
      "x: 0  y: 2\n",
      "x: 0  y: 3\n",
      "x: 1  y: 0\n",
      "x: 1  y: 1\n",
      "x: 1  y: 2\n",
      "x: 1  y: 3\n",
      "x: 2  y: 0\n",
      "x: 2  y: 1\n",
      "x: 2  y: 2\n",
      "x: 2  y: 3\n",
      "x: 3  y: 0\n",
      "x: 3  y: 1\n",
      "x: 3  y: 2\n",
      "x: 3  y: 3\n",
      "x: 4  y: 0\n",
      "x: 4  y: 1\n",
      "x: 4  y: 2\n",
      "x: 4  y: 3\n"
     ]
    }
   ],
   "source": [
    "for x in range(5):\n",
    "    y=0\n",
    "    while y<4:\n",
    "        print(\"x:\",x,\" y:\",y)\n",
    "        y+=1"
   ]
  },
  {
   "attachments": {},
   "cell_type": "markdown",
   "metadata": {},
   "source": [
    "9) Imprimir los números primos existentes entre 0 y 30"
   ]
  },
  {
   "cell_type": "code",
   "execution_count": 39,
   "metadata": {},
   "outputs": [
    {
     "name": "stdout",
     "output_type": "stream",
     "text": [
      "2\n",
      "3\n",
      "5\n",
      "7\n",
      "11\n",
      "13\n",
      "17\n",
      "19\n",
      "23\n",
      "29\n"
     ]
    }
   ],
   "source": [
    "tope=30\n",
    "for i in range(tope+1):\n",
    "    n=0\n",
    "    for j in range(i+1):\n",
    "        if j>0:\n",
    "            if i%j==0:\n",
    "                n+=1\n",
    "    if n==2:\n",
    "        print(i)\n"
   ]
  },
  {
   "attachments": {},
   "cell_type": "markdown",
   "metadata": {},
   "source": [
    "10) ¿Se puede mejorar el proceso del punto 9? Utilizar las sentencias break y/ó continue para tal fin"
   ]
  },
  {
   "cell_type": "code",
   "execution_count": 40,
   "metadata": {},
   "outputs": [
    {
     "name": "stdout",
     "output_type": "stream",
     "text": [
      "2\n",
      "3\n",
      "5\n",
      "7\n",
      "11\n",
      "13\n",
      "17\n",
      "19\n",
      "23\n",
      "29\n"
     ]
    }
   ],
   "source": [
    "tope=30\n",
    "for i in range(tope+1):\n",
    "    n=0\n",
    "    for j in range(i+1):\n",
    "        if j>0:\n",
    "            if i%j==0:\n",
    "                n+=1\n",
    "            if n>2:\n",
    "                break\n",
    "    if n==2:\n",
    "        print(i)\n"
   ]
  },
  {
   "attachments": {},
   "cell_type": "markdown",
   "metadata": {},
   "source": [
    "11) En los puntos 9 y 10, se diseño un código que encuentra números primos y además se lo optimizó. ¿Es posible saber en qué medida se optimizó?"
   ]
  },
  {
   "cell_type": "code",
   "execution_count": 46,
   "metadata": {},
   "outputs": [
    {
     "name": "stdout",
     "output_type": "stream",
     "text": [
      "2\n",
      "3\n",
      "5\n",
      "7\n",
      "11\n",
      "13\n",
      "17\n",
      "19\n",
      "23\n",
      "29\n",
      "Cantidad de ciclos:  496\n",
      "2\n",
      "3\n",
      "5\n",
      "7\n",
      "11\n",
      "13\n",
      "17\n",
      "19\n",
      "23\n",
      "29\n",
      "Cantidad de ciclos:  287\n",
      "Se optimizo un  0.5786290322580645 % de ciclos\n"
     ]
    }
   ],
   "source": [
    "ciclosSinBreak=0\n",
    "tope=30\n",
    "for i in range(tope+1):\n",
    "    \n",
    "    n=0\n",
    "    for j in range(i+1):\n",
    "        ciclosSinBreak+=1\n",
    "        if j>0:\n",
    "            if i%j==0:\n",
    "                n+=1\n",
    "    if n==2:\n",
    "        print(i)\n",
    "print(\"Cantidad de ciclos: \",ciclosSinBreak)\n",
    "\n",
    "ciclosConBreak=0\n",
    "tope=30\n",
    "for i in range(tope+1):\n",
    "\n",
    "    n=0\n",
    "    for j in range(i+1):\n",
    "        ciclosConBreak+=1\n",
    "        if j>0:\n",
    "            if i%j==0:\n",
    "                n+=1\n",
    "            if n>2:\n",
    "                break\n",
    "    if n==2:\n",
    "        print(i)\n",
    "print(\"Cantidad de ciclos: \",ciclosConBreak)\n",
    "print(\"Se optimizo un \",(ciclosConBreak/ciclosSinBreak),\"% de ciclos\")\n"
   ]
  },
  {
   "attachments": {},
   "cell_type": "markdown",
   "metadata": {},
   "source": [
    "12) Aplicando continue, armar un ciclo while que solo imprima los valores divisibles por 12, dentro del rango de números de 100 a 300"
   ]
  },
  {
   "cell_type": "code",
   "execution_count": 49,
   "metadata": {},
   "outputs": [
    {
     "name": "stdout",
     "output_type": "stream",
     "text": [
      "108\n",
      "120\n",
      "132\n",
      "144\n",
      "156\n",
      "168\n",
      "180\n",
      "192\n",
      "204\n",
      "216\n",
      "228\n",
      "240\n",
      "252\n",
      "264\n",
      "276\n",
      "288\n",
      "300\n"
     ]
    }
   ],
   "source": [
    "x=100\n",
    "while x<=300:\n",
    "    if x%12!=0:\n",
    "        x+=1\n",
    "        continue\n",
    "    print(x)\n",
    "    x+=1"
   ]
  },
  {
   "attachments": {},
   "cell_type": "markdown",
   "metadata": {},
   "source": [
    "13) Utilizar la función **input()** que permite hacer ingresos por teclado, para encontrar números primos y dar la opción al usario de buscar el siguiente"
   ]
  },
  {
   "cell_type": "code",
   "execution_count": 6,
   "metadata": {},
   "outputs": [
    {
     "name": "stdout",
     "output_type": "stream",
     "text": [
      "2\n",
      "3\n",
      "5\n",
      "7\n",
      "11\n",
      "13\n"
     ]
    }
   ],
   "source": [
    "entrada = input(\"Presione Y para calcular un numero primo o N para salir:\")\n",
    "while entrada!='Y' and entrada!='N':\n",
    "    entrada=input(\"La opcion no es valida. Presione Y para calcular un numero primo o N para salir:\")\n",
    "if entrada=='Y':\n",
    "    calcular=True\n",
    "else:\n",
    "    calcular=False\n",
    "n=1\n",
    "\n",
    "while calcular==True:\n",
    "    primo=False\n",
    "    \n",
    "    while primo==False:\n",
    "        sum=0\n",
    "        n+=1\n",
    "        for i in range(1,n):\n",
    "            if (n)%i==0:\n",
    "                sum+=1\n",
    "        if sum==1:\n",
    "            primo=True\n",
    "    print(n)\n",
    "    \n",
    "    entrada=input(\"Desea calcular el proximo numero primo? Y o N\")\n",
    "    while entrada!='Y' and entrada!='N':\n",
    "        entrada=input(\"La opcion no es valida. Presione Y para calcular un numero primo o N para salir:\")\n",
    "    if entrada=='Y':\n",
    "        calcular=True\n",
    "    else:\n",
    "        calcular=False\n",
    "    "
   ]
  },
  {
   "attachments": {},
   "cell_type": "markdown",
   "metadata": {},
   "source": [
    "14) Crear un ciclo while que encuentre dentro del rango de 100 a 300 el primer número divisible por 3 y además múltiplo de 6"
   ]
  },
  {
   "cell_type": "code",
   "execution_count": 8,
   "metadata": {},
   "outputs": [
    {
     "name": "stdout",
     "output_type": "stream",
     "text": [
      "102\n"
     ]
    }
   ],
   "source": [
    "x=100\n",
    "while x<=300:\n",
    "    if x%6==0:\n",
    "        print(x)\n",
    "        break\n",
    "    x+=1"
   ]
  }
 ],
 "metadata": {
  "interpreter": {
   "hash": "c85384e4cb51c8b72350f3a8712cc8351fdc3955e32a27f9b60c6242ab125f01"
  },
  "kernelspec": {
   "display_name": "Python 3 (ipykernel)",
   "language": "python",
   "name": "python3"
  },
  "language_info": {
   "codemirror_mode": {
    "name": "ipython",
    "version": 3
   },
   "file_extension": ".py",
   "mimetype": "text/x-python",
   "name": "python",
   "nbconvert_exporter": "python",
   "pygments_lexer": "ipython3",
   "version": "3.11.4"
  }
 },
 "nbformat": 4,
 "nbformat_minor": 4
}
