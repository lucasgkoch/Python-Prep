{
 "cells": [
  {
   "attachments": {},
   "cell_type": "markdown",
   "metadata": {},
   "source": [
    "## Funciones"
   ]
  },
  {
   "attachments": {},
   "cell_type": "markdown",
   "metadata": {},
   "source": [
    "1) Crear una función que reciba un número como parámetro y devuelva True si es primo y False si no lo es"
   ]
  },
  {
   "cell_type": "code",
   "execution_count": 3,
   "metadata": {},
   "outputs": [
    {
     "name": "stdout",
     "output_type": "stream",
     "text": [
      "False\n"
     ]
    }
   ],
   "source": [
    "def es_primo(num):\n",
    "    n=0\n",
    "    for j in range(1,num+1):\n",
    "        if num%j==0:\n",
    "            n+=1\n",
    "    if n==2:\n",
    "        return True\n",
    "    else:\n",
    "        return False\n",
    "print(es_primo(6))"
   ]
  },
  {
   "attachments": {},
   "cell_type": "markdown",
   "metadata": {},
   "source": [
    "2) Utilizando la función del punto 1, realizar otra función que reciba de parámetro una lista de números y devuelva sólo aquellos que son primos en otra lista"
   ]
  },
  {
   "cell_type": "code",
   "execution_count": 8,
   "metadata": {},
   "outputs": [
    {
     "name": "stdout",
     "output_type": "stream",
     "text": [
      "[7, 3, 5, 3, 13]\n"
     ]
    }
   ],
   "source": [
    "def devuelve_primos(lista):\n",
    "    primos=[]\n",
    "    for num in lista:\n",
    "        if es_primo(num)==True:\n",
    "            primos.append(num)\n",
    "    return primos\n",
    "numeros=[8,7,4,3,5,12,3,13,9]\n",
    "print(devuelve_primos(numeros))"
   ]
  },
  {
   "attachments": {},
   "cell_type": "markdown",
   "metadata": {},
   "source": [
    "3) Crear una función que al recibir una lista de números, devuelva el que más se repite y cuántas veces lo hace. Si hay más de un \"más repetido\", que devuelva cualquiera"
   ]
  },
  {
   "cell_type": "code",
   "execution_count": 18,
   "metadata": {},
   "outputs": [
    {
     "name": "stdout",
     "output_type": "stream",
     "text": [
      "el numero mas repetido es el 4 y se repite 6 veces\n"
     ]
    }
   ],
   "source": [
    "def mas_repetido(lista):\n",
    "    lista.sort()\n",
    "    max=0\n",
    "    max_num=lista[0]\n",
    "    cant=0\n",
    "    n=lista[0]\n",
    "    for num in lista:\n",
    "        if num==n:\n",
    "            cant+=1\n",
    "        else:\n",
    "            if cant>max:\n",
    "                max=cant\n",
    "                max_num=n\n",
    "            n=num\n",
    "            cant=1\n",
    "    if cant>max:\n",
    "        max=cant\n",
    "        max_num=n\n",
    "    return max_num,max    \n",
    "\n",
    "numeros=[8,7,4,3,5,12,3,4,13,13,9,4,7,4,5,8,9,4,4,5,12]\n",
    "\n",
    "mr=mas_repetido(numeros.copy())\n",
    "print('el numero mas repetido es el '+str(mr[0])+' y se repite '+str(mr[1])+' veces')\n"
   ]
  },
  {
   "attachments": {},
   "cell_type": "markdown",
   "metadata": {},
   "source": [
    "4) Crear una función que convierta entre grados Celsius, Farenheit y Kelvin<br>\n",
    "Fórmula 1\t: (°C × 9/5) + 32 = °F<br>\n",
    "Fórmula 2\t: °C + 273.15 = °K<br>\n",
    "Debe recibir 3 parámetros: el valor, la medida de orígen y la medida de destino\n"
   ]
  },
  {
   "cell_type": "code",
   "execution_count": 34,
   "metadata": {},
   "outputs": [
    {
     "name": "stdout",
     "output_type": "stream",
     "text": [
      "El resultado de la conversion es 40.55555555555556ºC\n"
     ]
    }
   ],
   "source": [
    "valor=int(input(\"ingrese el valor\"))\n",
    "medida_origen=input(\"ingrese la medida de origen(C/F/K)\")\n",
    "medida_destino=input(\"ingrese la medida de destino(C/F/K)\")\n",
    "\n",
    "def conversion_grados(valor,medida_origen,medida_destino):\n",
    "    if medida_origen=='C':\n",
    "        if medida_destino=='C':\n",
    "            valor_convertido=valor\n",
    "        elif medida_destino=='F':\n",
    "            valor_convertido=(valor*9/5)+32\n",
    "        elif medida_destino=='K':\n",
    "            valor_convertido=valor +273.15\n",
    "\n",
    "    elif medida_origen=='F':\n",
    "        if medida_destino=='C':\n",
    "            valor_convertido=(valor-32)/(9/5)\n",
    "        elif medida_destino=='F':\n",
    "            valor_convertido=valor\n",
    "        elif medida_destino=='K':\n",
    "            valor_convertido=(valor-32)/(9/5)\n",
    "            valor_convertido=valor +273.15\n",
    "\n",
    "    elif medida_origen=='K':\n",
    "        if medida_destino=='C':\n",
    "            valor_convertido=valor-237.15\n",
    "        elif medida_destino=='F':\n",
    "            valor_convertido=valor-237.15\n",
    "            valor_convertido=(valor*9/5)+32\n",
    "        elif medida_destino=='K':\n",
    "            valor_convertido=valor\n",
    "    \n",
    "    return valor_convertido\n",
    "\n",
    "print('El resultado de la conversion es '+str(conversion_grados(valor,medida_origen,medida_destino))+'º'+str(medida_destino))"
   ]
  },
  {
   "attachments": {},
   "cell_type": "markdown",
   "metadata": {},
   "source": [
    "5) Iterando una lista con los tres valores posibles de temperatura que recibe la función del punto 5, hacer un print para cada combinación de los mismos:"
   ]
  },
  {
   "cell_type": "code",
   "execution_count": 37,
   "metadata": {},
   "outputs": [
    {
     "name": "stdout",
     "output_type": "stream",
     "text": [
      "El resultado de la conversion de 1ºC a ºC es 1ºC\n",
      "El resultado de la conversion de 1ºC a ºF es 33.8ºF\n",
      "El resultado de la conversion de 1ºC a ºK es 274.15ºK\n",
      "El resultado de la conversion de 1ºF a ºC es -17.22222222222222ºC\n",
      "El resultado de la conversion de 1ºF a ºF es 1ºF\n",
      "El resultado de la conversion de 1ºF a ºK es 274.15ºK\n",
      "El resultado de la conversion de 1ºK a ºC es -236.15ºC\n",
      "El resultado de la conversion de 1ºK a ºF es 33.8ºF\n",
      "El resultado de la conversion de 1ºK a ºK es 1ºK\n"
     ]
    }
   ],
   "source": [
    "medidas=['C','F','K']\n",
    "\n",
    "for i in range(3):\n",
    "    for j in range(3):\n",
    "        print('El resultado de la conversion de 1º'+medidas[i]+' a º'+medidas[j]+' es '+str(conversion_grados(1,medidas[i],medidas[j]))+'º'+str(medidas[j]))"
   ]
  },
  {
   "attachments": {},
   "cell_type": "markdown",
   "metadata": {},
   "source": [
    "6) Armar una función que devuelva el factorial de un número. Tener en cuenta que el usuario puede equivocarse y enviar de parámetro un número no entero o negativo"
   ]
  },
  {
   "cell_type": "code",
   "execution_count": 31,
   "metadata": {},
   "outputs": [
    {
     "name": "stdout",
     "output_type": "stream",
     "text": [
      "El numero ingresado debe ser entero y mayor a 0\n",
      "None\n"
     ]
    }
   ],
   "source": [
    "def factorial(num):\n",
    "    if type(num)==int and num>0:\n",
    "        if num>1:\n",
    "            num=num*factorial(num-1)\n",
    "        return num\n",
    "    else:\n",
    "        print('El numero ingresado debe ser entero y mayor a 0')      \n",
    "\n",
    "print(factorial(-55))"
   ]
  }
 ],
 "metadata": {
  "interpreter": {
   "hash": "c85384e4cb51c8b72350f3a8712cc8351fdc3955e32a27f9b60c6242ab125f01"
  },
  "kernelspec": {
   "display_name": "Python 3 (ipykernel)",
   "language": "python",
   "name": "python3"
  },
  "language_info": {
   "codemirror_mode": {
    "name": "ipython",
    "version": 3
   },
   "file_extension": ".py",
   "mimetype": "text/x-python",
   "name": "python",
   "nbconvert_exporter": "python",
   "pygments_lexer": "ipython3",
   "version": "3.11.4"
  }
 },
 "nbformat": 4,
 "nbformat_minor": 4
}
